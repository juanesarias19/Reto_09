{
  "nbformat": 4,
  "nbformat_minor": 0,
  "metadata": {
    "colab": {
      "provenance": []
    },
    "kernelspec": {
      "name": "python3",
      "display_name": "Python 3"
    },
    "language_info": {
      "name": "python"
    }
  },
  "cells": [
    {
      "cell_type": "markdown",
      "source": [
        "###Reto 9 - Clase 13\n",
        "\n",
        "Desarrolle la mayoría de ejercicios en clase. Para cada punto cree un programa individual. Al finalizar suba todo a un repo y subalo al canal reto_08 en slack."
      ],
      "metadata": {
        "id": "7DngOEj1rOWl"
      }
    },
    {
      "cell_type": "markdown",
      "source": [
        "1. Desarrollar un algoritmo que calcule el promedio de un arreglo de reales.\n"
      ],
      "metadata": {
        "id": "mPCYt2sDrW5o"
      }
    },
    {
      "cell_type": "code",
      "source": [
        "valores = [1, 2, 3, 4, 5] #Arreglo\n",
        "prom = sum(valores) / len(valores)  #Primero se hace la suma, luego la division por numero de elementos del arreglo\n",
        "print(valores) #Imprimir arreglo\n",
        "print(\"El promedio es de:\",prom) #Imprimir promedio\n"
      ],
      "metadata": {
        "colab": {
          "base_uri": "https://localhost:8080/"
        },
        "id": "JtdkUmIjKFog",
        "outputId": "05f3b0b5-c5f4-4735-e08a-da194ca9d038"
      },
      "execution_count": null,
      "outputs": [
        {
          "output_type": "stream",
          "name": "stdout",
          "text": [
            "[1, 2, 3, 4, 5]\n",
            "El promedio es de: 3.0\n"
          ]
        }
      ]
    },
    {
      "cell_type": "markdown",
      "source": [
        "2. Desarrollar un algoritmo que calcule el producto punto de dos arreglos de números enteros (reales) de igual tamaño.\n",
        "\n"
      ],
      "metadata": {
        "id": "WfsDWP1YrfNB"
      }
    },
    {
      "cell_type": "code",
      "source": [
        "#Dos arreglos de igual tamaño\n",
        "x = [3, 5, 8, 6]\n",
        "y = [4, 5, 2, 7]\n",
        "\n",
        "producto_punto = 0\n",
        "\n",
        "# Calculamos el producto punto\n",
        "for i in range(len(x)):\n",
        "    producto_punto += x[i] * y[i]\n",
        "\n",
        "# Imprimimos el resultado\n",
        "print(\"El producto punto es:\", producto_punto)"
      ],
      "metadata": {
        "colab": {
          "base_uri": "https://localhost:8080/"
        },
        "id": "kW-jZ84Bb9t6",
        "outputId": "fac24d09-c853-4453-fee5-e50e9ed8870b"
      },
      "execution_count": null,
      "outputs": [
        {
          "output_type": "stream",
          "name": "stdout",
          "text": [
            "El producto punto es: 95\n"
          ]
        }
      ]
    },
    {
      "cell_type": "markdown",
      "source": [
        "3. Hacer un algoritmo que deje al final de un arreglo de números todos los ceros que aparezcan en dicho arreglo.\n"
      ],
      "metadata": {
        "id": "sBNBvTsGriux"
      }
    },
    {
      "cell_type": "code",
      "source": [
        "x = [1, 0, 1, 2, 0, 2, 3, 6, 9, 0, 2, 0] #Arreglo\n",
        "\n",
        "\n",
        "B = [] #Iniciar lista vacia\n",
        "for i in x: #Recorrer el arreglo y si es diferente de cero lo agrega en B\n",
        "    if(i!=0):\n",
        "      B.append(i)\n",
        "for j in x: #Recorre el arreglo y es cero lo coloca al final de B\n",
        "    if(j==0):\n",
        "      B.append(j)\n",
        "\n",
        "print(x) #Imrpime el arreglo\n",
        "print(B) #Imprime el arreglo con ceros al fianl"
      ],
      "metadata": {
        "colab": {
          "base_uri": "https://localhost:8080/"
        },
        "id": "6H3WB9NVTTzP",
        "outputId": "b3daae4b-938f-4298-cd10-578691073a6b"
      },
      "execution_count": null,
      "outputs": [
        {
          "output_type": "stream",
          "name": "stdout",
          "text": [
            "[1, 0, 1, 2, 0, 2, 3, 6, 9, 0, 2, 0]\n",
            "[1, 1, 2, 2, 3, 6, 9, 2, 0, 0, 0, 0]\n"
          ]
        }
      ]
    },
    {
      "cell_type": "markdown",
      "source": [
        "4. Revisar que son los algoritmos de sorting, entender bubble-sort (enlace a implementación).\n",
        "\n",
        "\n"
      ],
      "metadata": {
        "id": "fDfswB3srj5o"
      }
    }
  ]
}